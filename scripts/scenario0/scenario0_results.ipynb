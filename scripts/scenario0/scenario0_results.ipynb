{
 "cells": [
  {
   "cell_type": "code",
   "execution_count": 1,
   "id": "58db325e",
   "metadata": {},
   "outputs": [],
   "source": [
    "import sys\n",
    "sys.path.append(\"../../\")\n",
    "import pickle\n",
    "import matplotlib.pyplot as plt\n",
    "import seaborn as sns\n",
    "import numpy as np"
   ]
  },
  {
   "cell_type": "code",
   "execution_count": 28,
   "id": "aec74e8f",
   "metadata": {},
   "outputs": [],
   "source": [
    "with open(\"./S0-DN-eval.pkl\", \"rb\") as f:\n",
    "    sim_tracker_DN = pickle.load(f)\n",
    "with open(\"./S0-revisit-evel.pkl\", \"rb\") as f:\n",
    "    sim_tracker_revisit = pickle.load(f)\n",
    "    \n",
    "with open(\"./S0-smart-random-eval.pkl\", \"rb\") as f:\n",
    "    sim_tracker_random = pickle.load(f)\n",
    "    \n",
    "with open(\"./S0-q-table-eval.pkl\", \"rb\") as f:\n",
    "    sim_tracker_qt = pickle.load(f)\n",
    "    \n",
    "    \n",
    "SIMS = [sim_tracker_random, sim_tracker_revisit, sim_tracker_qt]\n",
    "labels = ['Random', '90-min Revisit', 'Q-Table']"
   ]
  },
  {
   "cell_type": "code",
   "execution_count": 29,
   "id": "3e9b631d",
   "metadata": {},
   "outputs": [
    {
     "data": {
      "image/png": "[encoded data removed]",
      "text/plain": [
       "<Figure size 800x200 with 1 Axes>"
      ]
     },
     "metadata": {},
     "output_type": "display_data"
    }
   ],
   "source": [
    "\n",
    "data = []\n",
    "\n",
    "for sim in SIMS:\n",
    "    data.append(sim.uncertainty_static)\n",
    "\n",
    "plt.figure(figsize=(8, 2))\n",
    "sns.boxplot(data=data ,color=\"#FBD065\")\n",
    "plt.axhline(y=np.mean(sim_tracker_DN.uncertainty_static), color='red', linestyle='--', linewidth=2)\n",
    "plt.xticks(list(range(len(labels))), labels)\n",
    "plt.ylabel('Position RSS [m]')\n",
    "plt.grid()\n",
    "plt.show()"
   ]
  },
  {
   "cell_type": "code",
   "execution_count": 30,
   "id": "7d6c9f62",
   "metadata": {},
   "outputs": [
    {
     "data": {
      "image/png": "[encoded data removed]",
      "text/plain": [
       "<Figure size 800x200 with 1 Axes>"
      ]
     },
     "metadata": {},
     "output_type": "display_data"
    }
   ],
   "source": [
    "\n",
    "data = []\n",
    "\n",
    "for sim in SIMS:\n",
    "    data.append(sim.uncertainty_prop)\n",
    "\n",
    "plt.figure(figsize=(8, 2))\n",
    "sns.boxplot(data=data ,color=\"#FBD065\")\n",
    "plt.axhline(y=np.mean(sim_tracker_DN.uncertainty_prop), color='red', linestyle='--', linewidth=2)\n",
    "plt.xticks(list(range(len(labels))), labels)\n",
    "plt.ylabel('Position RSS [m]')\n",
    "plt.grid()\n",
    "plt.show()"
   ]
  },
  {
   "cell_type": "code",
   "execution_count": 25,
   "id": "92fd6a4b",
   "metadata": {},
   "outputs": [],
   "source": [
    "# investigate\n",
    "with open(\"./agent-q-table-S0.pkl\", \"rb\") as f:\n",
    "    q_table_agent = pickle.load(f)"
   ]
  },
  {
   "cell_type": "code",
   "execution_count": 26,
   "id": "aa0684b3",
   "metadata": {},
   "outputs": [
    {
     "data": {
      "text/plain": [
       "defaultdict(<function engine.util.indexing.dynamic_dict()>,\n",
       "            {30: defaultdict(<function engine.util.indexing.dynamic_dict()>,\n",
       "                         {-1: array([ 0.16523801, -0.28164501]),\n",
       "                          30: array([0.40628783, 0.0327845 ]),\n",
       "                          60: array([ 0.        , -0.09992475])}),\n",
       "             60: defaultdict(<function engine.util.indexing.dynamic_dict()>,\n",
       "                         {-1: array([ 1.36755861, -0.96995823]),\n",
       "                          30: array([8.59332533, 2.23808671]),\n",
       "                          60: array([-0.02279298, -0.1536143 ]),\n",
       "                          90: array([-0.88582512, -1.02312379])}),\n",
       "             0: defaultdict(<function engine.util.indexing.dynamic_dict()>,\n",
       "                         {-1: array([ 0.11967759, -0.77727112]),\n",
       "                          30: array([ 0.00508707, -0.18996437])}),\n",
       "             90: defaultdict(<function engine.util.indexing.dynamic_dict()>,\n",
       "                         {-1: array([ 0.80754352, -2.95712682]),\n",
       "                          30: array([7.40319791, 2.53765769]),\n",
       "                          90: array([-1.94192883, -1.97187411])}),\n",
       "             120: defaultdict(<function engine.util.indexing.dynamic_dict()>,\n",
       "                         {-1: array([-4.05624736, -6.28288905]),\n",
       "                          30: array([ 8.4051685 , -1.63473668])}),\n",
       "             150: defaultdict(<function engine.util.indexing.dynamic_dict()>,\n",
       "                         {-1: array([-7.85766097, -8.17498589]),\n",
       "                          30: array([ 0.        , -0.36195122])}),\n",
       "             180: defaultdict(<function engine.util.indexing.dynamic_dict()>,\n",
       "                         {-1: array([-6.79945017,  0.76339945])})})"
      ]
     },
     "execution_count": 26,
     "metadata": {},
     "output_type": "execute_result"
    }
   ],
   "source": [
    "q_table_agent.q_table.q_table"
   ]
  },
  {
   "cell_type": "code",
   "execution_count": null,
   "id": "e244d336",
   "metadata": {},
   "outputs": [],
   "source": [
    "sim_tracker_DN.uncertainty_prop"
   ]
  }
 ],
 "metadata": {
  "kernelspec": {
   "display_name": "ssn-v0",
   "language": "python",
   "name": "python3"
  },
  "language_info": {
   "codemirror_mode": {
    "name": "ipython",
    "version": 3
   },
   "file_extension": ".py",
   "mimetype": "text/x-python",
   "name": "python",
   "nbconvert_exporter": "python",
   "pygments_lexer": "ipython3",
   "version": "3.10.16"
  }
 },
 "nbformat": 4,
 "nbformat_minor": 5
}
